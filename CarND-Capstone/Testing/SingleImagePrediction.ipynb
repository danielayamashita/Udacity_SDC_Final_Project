{
 "cells": [
  {
   "cell_type": "code",
   "execution_count": 1,
   "metadata": {},
   "outputs": [
    {
     "name": "stderr",
     "output_type": "stream",
     "text": [
      "Using TensorFlow backend.\n"
     ]
    }
   ],
   "source": [
    "import numpy as np\n",
    "# load keras libraies and load the MobileNet model\n",
    "from keras.models import Model\n",
    "from keras import applications\n",
    "from keras.models import load_model\n",
    "\n",
    "# load the trained model\n",
    "from keras.utils.generic_utils import CustomObjectScope\n",
    "\n",
    "model_filepath = 'saved_models/model.MobileNet-3-classes.h5'\n",
    "n_classes = 3\n",
    "\n",
    "#del model\n",
    "with CustomObjectScope({'relu6': applications.mobilenet.relu6,'DepthwiseConv2D': applications.mobilenet.DepthwiseConv2D}):\n",
    "    model = load_model(model_filepath)"
   ]
  },
  {
   "cell_type": "code",
   "execution_count": 2,
   "metadata": {},
   "outputs": [
    {
     "name": "stdout",
     "output_type": "stream",
     "text": [
      "x shape =  (1, 224, 224, 3)\n",
      "Prediction for green light: 2\n"
     ]
    }
   ],
   "source": [
    "import cv2\n",
    "import numpy as np\n",
    "from keras.preprocessing import image as img_preprocessing\n",
    "\n",
    "file_name = \"./test_data/2.green/Image_60.jpg\"\n",
    "y = \"green\"\n",
    "\n",
    "image = cv2.imread(file_name)\n",
    "image = cv2.cvtColor(image, cv2.COLOR_BGR2RGB)\n",
    "\n",
    "image = cv2.resize(image,(224,224))\n",
    "\n",
    "# to tensors and normalize it\n",
    "x = img_preprocessing.img_to_array(image)\n",
    "x = np.expand_dims(x, axis=0).astype('float32')/255\n",
    "\n",
    "print(\"x shape = \", x.shape)\n",
    "\n",
    "# get index of predicted signal sign for the image\n",
    "signal_prediction = np.argmax(model.predict(x))\n",
    "\n",
    "# print out test accuracy\n",
    "print('Prediction for {} light: {}'.format(y, signal_prediction))\n"
   ]
  },
  {
   "cell_type": "code",
   "execution_count": null,
   "metadata": {},
   "outputs": [],
   "source": []
  }
 ],
 "metadata": {
  "kernelspec": {
   "display_name": "Python 3",
   "language": "python",
   "name": "python3"
  },
  "language_info": {
   "codemirror_mode": {
    "name": "ipython",
    "version": 3
   },
   "file_extension": ".py",
   "mimetype": "text/x-python",
   "name": "python",
   "nbconvert_exporter": "python",
   "pygments_lexer": "ipython3",
   "version": "3.5.2"
  },
  "widgets": {
   "state": {},
   "version": "1.1.2"
  }
 },
 "nbformat": 4,
 "nbformat_minor": 2
}
